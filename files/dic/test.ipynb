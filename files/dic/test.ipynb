{
 "cells": [
  {
   "cell_type": "code",
   "execution_count": 34,
   "metadata": {
    "collapsed": true
   },
   "outputs": [],
   "source": [
    "with open('jieba_pos.txt','r')as f:\n",
    "    lines=f.readlines()"
   ]
  },
  {
   "cell_type": "code",
   "execution_count": 45,
   "metadata": {
    "collapsed": false
   },
   "outputs": [],
   "source": [
    "with open('jieba_pos.txt','w')as g:\n",
    "    for i in lines:\n",
    "        \n",
    "        g.write(i.split(' ')[0]+' '+i.split(' ')[1].lower())"
   ]
  },
  {
   "cell_type": "code",
   "execution_count": 1,
   "metadata": {
    "collapsed": true
   },
   "outputs": [],
   "source": [
    "import jieba"
   ]
  },
  {
   "cell_type": "code",
   "execution_count": 10,
   "metadata": {
    "collapsed": false,
    "scrolled": false
   },
   "outputs": [],
   "source": [
    "jieba.load_userdict(\"test.txt\")"
   ]
  },
  {
   "cell_type": "code",
   "execution_count": 3,
   "metadata": {
    "collapsed": true
   },
   "outputs": [],
   "source": [
    "import jieba.posseg"
   ]
  },
  {
   "cell_type": "code",
   "execution_count": 4,
   "metadata": {
    "collapsed": false
   },
   "outputs": [],
   "source": [
    "jieba.add_word('什么价格',tag='RW.RW')"
   ]
  },
  {
   "cell_type": "code",
   "execution_count": 12,
   "metadata": {
    "collapsed": true
   },
   "outputs": [
    {
     "data": {
      "text/plain": [
       "[pair('肝病', 'n'), pair('的', 'uj'), pair('多少斤', 'rw')]"
      ]
     },
     "execution_count": 12,
     "metadata": {},
     "output_type": "execute_result"
    }
   ],
   "source": [
    "jieba.posseg.lcut('肝病的多少斤')"
   ]
  },
  {
   "cell_type": "code",
   "execution_count": 56,
   "metadata": {
    "collapsed": false
   },
   "outputs": [],
   "source": [
    "import requests\n",
    "\n",
    "\n",
    "class LtpDependencyParsing:\n",
    "    arg = {\n",
    "        'api_key': 'T8r3Z4d4PkDpzysjWVLG4GPmguFTthFSKeapPlhk',\n",
    "        'text': '',\n",
    "        'pattern': 'dp',\n",
    "        'format': 'json'\n",
    "    }\n",
    "\n",
    "    def __init__(self, sentence):\n",
    "        self.sentence = sentence\n",
    "\n",
    "    def get_dp_json(self):\n",
    "        self.arg['text'] = self.sentence\n",
    "        data=requests.post(url='http://api.ltp-cloud.com/analysis/', data=self.arg)\n",
    "        return data\n",
    "    \n",
    "    def get_dp_plain(self):\n",
    "        self.arg['text'] = self.sentence\n",
    "        self.arg['format'] = 'plain'\n",
    "        return requests.post(url='http://api.ltp-cloud.com/analysis/', data=self.arg).content.decode()\n",
    "\n",
    "    \n",
    "\n",
    "\n"
   ]
  },
  {
   "cell_type": "code",
   "execution_count": 57,
   "metadata": {
    "collapsed": false
   },
   "outputs": [],
   "source": [
    "data=LtpDependencyParsing('哪个国家的人口最多').get_dp_json()\n"
   ]
  },
  {
   "cell_type": "code",
   "execution_count": 58,
   "metadata": {
    "collapsed": false
   },
   "outputs": [
    {
     "data": {
      "text/plain": [
       "[[[{'cont': '哪个', 'id': 0, 'parent': 1, 'pos': 'r', 'relate': 'ATT'},\n",
       "   {'cont': '国家', 'id': 1, 'parent': 3, 'pos': 'n', 'relate': 'ATT'},\n",
       "   {'cont': '的', 'id': 2, 'parent': 1, 'pos': 'u', 'relate': 'RAD'},\n",
       "   {'cont': '人口', 'id': 3, 'parent': 5, 'pos': 'n', 'relate': 'SBV'},\n",
       "   {'cont': '最', 'id': 4, 'parent': 5, 'pos': 'd', 'relate': 'ADV'},\n",
       "   {'cont': '多', 'id': 5, 'parent': -1, 'pos': 'a', 'relate': 'HED'}]]]"
      ]
     },
     "execution_count": 58,
     "metadata": {},
     "output_type": "execute_result"
    }
   ],
   "source": [
    "data.json()\n"
   ]
  },
  {
   "cell_type": "code",
   "execution_count": 49,
   "metadata": {
    "collapsed": false
   },
   "outputs": [],
   "source": [
    "jlist=data.json()[0][0]\n",
    "f_list=[]\n",
    "for item in jlist:\n",
    "    if item['relate'] == 'HED':\n",
    "        f_list.append(item)\n",
    "    elif item['relate']  == 'SBV' or item['relate'] == 'VOB':\n",
    "        f_list.append(item)\n",
    "        f_list.append(jlist[item['parent']])\n",
    "#         疑问词表item['cont'] in proun_dict\n",
    "    elif item['pos'] == 'r':\n",
    "        f_list.append(item)\n",
    "        f_list.append(jlist[item['parent']])\n",
    "    \n",
    "    "
   ]
  },
  {
   "cell_type": "code",
   "execution_count": 50,
   "metadata": {
    "collapsed": false
   },
   "outputs": [],
   "source": [
    "s_list = sorted(list(set([(i['id'],i['cont']) for i in f_list])))\n"
   ]
  },
  {
   "cell_type": "code",
   "execution_count": 51,
   "metadata": {
    "collapsed": false
   },
   "outputs": [
    {
     "data": {
      "text/plain": [
       "[(0, '哪个'), (1, '国家'), (3, '人口'), (5, '多')]"
      ]
     },
     "execution_count": 51,
     "metadata": {},
     "output_type": "execute_result"
    }
   ],
   "source": [
    "s_list \n"
   ]
  },
  {
   "cell_type": "code",
   "execution_count": 53,
   "metadata": {
    "collapsed": false
   },
   "outputs": [
    {
     "data": {
      "text/plain": [
       "'哪个国家人口多'"
      ]
     },
     "execution_count": 53,
     "metadata": {},
     "output_type": "execute_result"
    }
   ],
   "source": [
    "''.join([i[1]for i in s_list])"
   ]
  },
  {
   "cell_type": "code",
   "execution_count": 1,
   "metadata": {
    "collapsed": true
   },
   "outputs": [],
   "source": [
    "import requests"
   ]
  },
  {
   "cell_type": "code",
   "execution_count": 4,
   "metadata": {
    "collapsed": true
   },
   "outputs": [],
   "source": [
    "args = {'key': '525ef6b3a42043c196e9df0d549bc68f', 'info': '你好啊'}\n",
    "response = requests.post(url='http://www.tuling123.com/openapi/api', data=args)\n",
    "data=response.json()"
   ]
  },
  {
   "cell_type": "code",
   "execution_count": 6,
   "metadata": {
    "collapsed": false
   },
   "outputs": [
    {
     "data": {
      "text/plain": [
       "'你好呀，～有什么新鲜事儿要对我讲？'"
      ]
     },
     "execution_count": 6,
     "metadata": {},
     "output_type": "execute_result"
    }
   ],
   "source": [
    "data['text']"
   ]
  },
  {
   "cell_type": "code",
   "execution_count": null,
   "metadata": {
    "collapsed": true
   },
   "outputs": [],
   "source": []
  }
 ],
 "metadata": {
  "kernelspec": {
   "display_name": "Python 3",
   "language": "python",
   "name": "python3"
  },
  "language_info": {
   "codemirror_mode": {
    "name": "ipython",
    "version": 3
   },
   "file_extension": ".py",
   "mimetype": "text/x-python",
   "name": "python",
   "nbconvert_exporter": "python",
   "pygments_lexer": "ipython3",
   "version": "3.5.2"
  }
 },
 "nbformat": 4,
 "nbformat_minor": 1
}
